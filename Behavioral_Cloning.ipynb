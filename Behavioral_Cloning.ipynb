{
 "cells": [
  {
   "cell_type": "markdown",
   "metadata": {},
   "source": [
    "# Behavorial Cloning Finding Project"
   ]
  },
  {
   "cell_type": "code",
   "execution_count": 1,
   "metadata": {},
   "outputs": [],
   "source": [
    "import csv\n",
    "import cv2\n",
    "import numpy as np\n",
    "lines = []\n",
    "DATA_PATH = '../data/driving_log.csv'\n",
    "with open(DATA_PATH) as csvfile:\n",
    "    reader = csv.reader(csvfile)\n",
    "    for line in reader:\n",
    "        lines.append(line)\n",
    "        \n",
    "#skip the first line\n",
    "lines = lines[1:]\n",
    "\n",
    "images = []\n",
    "measurements = []\n",
    "for line in lines:\n",
    "    source_path = line[0]\n",
    "    filename = source_path.split('/')[-1]\n",
    "    #current_path = '/aws/path/' + filename\n",
    "    current_path = '../data/IMG/'+ filename\n",
    "    image = cv2.imread(current_path)\n",
    "    images.append(image)\n",
    "\n",
    "    measurement = float(line[3])\n",
    "    measurements.append(measurement)\n",
    "    \n",
    "X_train = np.array(images)\n",
    "y_train = np.array(measurements)\n",
    "    "
   ]
  },
  {
   "cell_type": "code",
   "execution_count": 4,
   "metadata": {},
   "outputs": [
    {
     "name": "stdout",
     "output_type": "stream",
     "text": [
      "Train on 6428 samples, validate on 1608 samples\n",
      "Epoch 1/7\n",
      "6428/6428 [==============================] - 7s - loss: 8021735.3534 - val_loss: 6524.5824\n",
      "Epoch 2/7\n",
      "6428/6428 [==============================] - 7s - loss: 3825.1573 - val_loss: 2767.2116\n",
      "Epoch 3/7\n",
      "6428/6428 [==============================] - 7s - loss: 2800.7938 - val_loss: 2271.0102\n",
      "Epoch 4/7\n",
      "6428/6428 [==============================] - 7s - loss: 2110.2162 - val_loss: 2154.7035\n",
      "Epoch 5/7\n",
      "6428/6428 [==============================] - 7s - loss: 2020.2369 - val_loss: 1703.1549\n",
      "Epoch 6/7\n",
      "6428/6428 [==============================] - 7s - loss: 2204.6616 - val_loss: 4109.5890\n",
      "Epoch 7/7\n",
      "6428/6428 [==============================] - 7s - loss: 2534.2161 - val_loss: 1303.2911\n"
     ]
    }
   ],
   "source": [
    "from keras.models import Sequential\n",
    "from keras.layers import Flatten, Dense\n",
    "\n",
    "model = Sequential()\n",
    "model.add(Flatten(input_shape=(160, 320, 3)))\n",
    "model.add(Dense(1))\n",
    "\n",
    "model.compile(loss='mse', optimizer='adam')\n",
    "model.fit(X_train, y_train, validation_split=0.2, shuffle=True, nb_epoch=7)\n",
    "\n",
    "model.save('model.h5')"
   ]
  },
  {
   "cell_type": "code",
   "execution_count": null,
   "metadata": {},
   "outputs": [],
   "source": []
  }
 ],
 "metadata": {
  "anaconda-cloud": {},
  "kernelspec": {
   "display_name": "Python 3",
   "language": "python",
   "name": "python3"
  },
  "language_info": {
   "codemirror_mode": {
    "name": "ipython",
    "version": 3
   },
   "file_extension": ".py",
   "mimetype": "text/x-python",
   "name": "python",
   "nbconvert_exporter": "python",
   "pygments_lexer": "ipython3",
   "version": "3.5.2"
  },
  "widgets": {
   "state": {},
   "version": "1.1.2"
  }
 },
 "nbformat": 4,
 "nbformat_minor": 1
}
